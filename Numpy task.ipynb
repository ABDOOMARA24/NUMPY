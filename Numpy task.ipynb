{
 "cells": [
  {
   "cell_type": "code",
   "execution_count": null,
   "id": "7e4e4851",
   "metadata": {},
   "outputs": [],
   "source": [
    "import numpy as np\n",
    "\n",
    "\n",
    "def letterGrade(score):         #returns corresponding letter grade for given numerical score\n",
    "    grade = 'unknown'\n",
    "    \n",
    "    if score >= 90 and score <= 92.99:\n",
    "        grade = 'A+'\n",
    "    elif score >= 80 and score <= 82.99:\n",
    "        grade = 'A'\n",
    "    elif score >= 70 and score <= 72.99:\n",
    "        grade = 'B+'\n",
    "    elif score >= 60 and score <= 69.99:\n",
    "        grade = 'B'\n",
    "    elif score >= 50 and score <= 55:\n",
    "        grade = 'F'        \n",
    "    \n",
    "    return grade\n",
    "    \n",
    "print(score [90] , grade(A+))\n",
    "print(score [80] , grade(A))\n",
    "print(score [70] , grade(B+))\n",
    "print(score [60] , grade(B))\n",
    "print(score [50] , grade(F))"
   ]
  },
  {
   "cell_type": "code",
   "execution_count": null,
   "id": "7ca07820",
   "metadata": {},
   "outputs": [],
   "source": []
  },
  {
   "cell_type": "code",
   "execution_count": null,
   "id": "f36b625a",
   "metadata": {},
   "outputs": [],
   "source": []
  }
 ],
 "metadata": {
  "kernelspec": {
   "display_name": "Python 3 (ipykernel)",
   "language": "python",
   "name": "python3"
  },
  "language_info": {
   "codemirror_mode": {
    "name": "ipython",
    "version": 3
   },
   "file_extension": ".py",
   "mimetype": "text/x-python",
   "name": "python",
   "nbconvert_exporter": "python",
   "pygments_lexer": "ipython3",
   "version": "3.9.13"
  }
 },
 "nbformat": 4,
 "nbformat_minor": 5
}
